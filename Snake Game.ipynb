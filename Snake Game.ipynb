{
 "cells": [
  {
   "cell_type": "code",
   "execution_count": 1,
   "id": "62f0127f",
   "metadata": {},
   "outputs": [
    {
     "name": "stdout",
     "output_type": "stream",
     "text": [
      "pygame 2.0.1 (SDL 2.0.14, Python 3.8.8)\n",
      "Hello from the pygame community. https://www.pygame.org/contribute.html\n"
     ]
    }
   ],
   "source": [
    "import pygame as pg\n",
    "\n",
    "pg.init()\n",
    "dis=pg.display.set_mode((400,300))\n",
    "pg.display.update()\n",
    "pg.display.set_caption(\"Snake game by Saksham\")\n",
    "\n",
    "blue=(0,0,255)\n",
    "red=(105,0,0)\n",
    "white=(255,255,255)\n",
    "black=(0,0,0)\n",
    "pink=(232, 190, 224)\n",
    "\n",
    "x=150\n",
    "y=150\n",
    "i=0;\n",
    "clock=pg.time.Clock()\n",
    "\n",
    "game_over=False\n",
    "while not game_over:\n",
    "    for event in pg.event.get():\n",
    "        if event.type==pg.QUIT:\n",
    "            game_over=True\n",
    "        if event.type==pg.KEYDOWN:\n",
    "            if event.key==pg.K_LEFT:\n",
    "                x+=-10\n",
    "            if event.key==pg.K_RIGHT:\n",
    "                x+=10\n",
    "            if event.key==pg.K_UP:\n",
    "                y+=-10\n",
    "            if event.key==pg.K_DOWN:\n",
    "                y+=10\n",
    "                \n",
    "            \n",
    "            if x>400:\n",
    "                x=0\n",
    "            if x<0:\n",
    "                x=400\n",
    "            if y<0:\n",
    "                y=300\n",
    "            if y>300:\n",
    "                y=0\n",
    "            i+=1\n",
    "            \n",
    "            \n",
    "    if(i>=6):\n",
    "            dis.fill(pink)    \n",
    "            i=1          \n",
    "    pg.draw.rect(dis,red,[x,y,10,10])\n",
    "#     pg.draw.circle(dis,red,[x,y],10)\n",
    "    pg.display.update()\n",
    "    clock.tick(90)\n",
    "pg.quit()\n",
    "quit()"
   ]
  },
  {
   "cell_type": "code",
   "execution_count": null,
   "id": "2c4da8d6",
   "metadata": {},
   "outputs": [],
   "source": [
    "import num"
   ]
  },
  {
   "cell_type": "code",
   "execution_count": null,
   "id": "56f2a8d1",
   "metadata": {},
   "outputs": [],
   "source": []
  }
 ],
 "metadata": {
  "kernelspec": {
   "display_name": "Python 3",
   "language": "python",
   "name": "python3"
  },
  "language_info": {
   "codemirror_mode": {
    "name": "ipython",
    "version": 3
   },
   "file_extension": ".py",
   "mimetype": "text/x-python",
   "name": "python",
   "nbconvert_exporter": "python",
   "pygments_lexer": "ipython3",
   "version": "3.8.8"
  }
 },
 "nbformat": 4,
 "nbformat_minor": 5
}
